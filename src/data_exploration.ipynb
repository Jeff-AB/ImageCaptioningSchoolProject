{
 "cells": [
  {
   "cell_type": "code",
   "execution_count": 1,
   "metadata": {},
   "outputs": [],
   "source": [
    "import numpy as np\n",
    "from tqdm.notebook import tqdm\n",
    "import torch\n",
    "import torch.nn as nn\n",
    "from data.augmentation import AugmentedFlickrDataset, Flickr30k\n",
    "from collections import defaultdict\n",
    "import matplotlib.pyplot as plt\n",
    "import nltk"
   ]
  },
  {
   "cell_type": "code",
   "execution_count": null,
   "metadata": {},
   "outputs": [],
   "source": [
    "nltk.download('punkt')"
   ]
  },
  {
   "cell_type": "code",
   "execution_count": 2,
   "metadata": {},
   "outputs": [
    {
     "name": "stderr",
     "output_type": "stream",
     "text": [
      "Loading Captions:  33%|███▎      | 525/1590 [00:23<00:45, 23.26it/s]"
     ]
    }
   ],
   "source": [
    "dataset = Flickr30k(\"../flickr30k/flickr30k.exdir\")\n",
    "#augmented_dataset = AugmentedFlickrDataset(\"../flickr30k/flickr30k.exdir\")"
   ]
  },
  {
   "cell_type": "code",
   "execution_count": null,
   "metadata": {},
   "outputs": [],
   "source": [
    "idx = np.random.randint(0, len(dataset))\n",
    "x, y = dataset[idx]\n",
    "print(y)\n",
    "plt.imshow(x.permute(1,2,0).numpy()/255.0)"
   ]
  },
  {
   "cell_type": "code",
   "execution_count": null,
   "metadata": {},
   "outputs": [],
   "source": [
    "# get some word statistics\n",
    "def def_val():\n",
    "    return 0\n",
    "words = defaultdict(def_val)\n",
    "for x, y in tqdm(dataset):\n",
    "    for cap in y:\n",
    "        tokens = nltk.tokenize.word_tokenize(cap.lower())\n",
    "        for token in tokens:\n",
    "            words[token] += 1"
   ]
  },
  {
   "cell_type": "code",
   "execution_count": 40,
   "metadata": {},
   "outputs": [
    {
     "name": "stdout",
     "output_type": "stream",
     "text": [
      "56\n"
     ]
    }
   ],
   "source": [
    "word_freqs = [(k, v) for k, v in words.items()]\n",
    "freqs = [v for v in words.values()]\n",
    "word_freqs.sort(key=lambda x : x[1], reverse=True)\n",
    "freqs.sort(reverse=True)\n",
    "print(freqs[2000])"
   ]
  },
  {
   "cell_type": "code",
   "execution_count": 41,
   "metadata": {},
   "outputs": [
    {
     "data": {
      "text/plain": [
       "[<matplotlib.lines.Line2D at 0x7f69a8136580>]"
      ]
     },
     "execution_count": 41,
     "metadata": {},
     "output_type": "execute_result"
    },
    {
     "data": {
      "image/png": "[encoded data removed]",
      "text/plain": [
       "<Figure size 1080x648 with 1 Axes>"
      ]
     },
     "metadata": {
      "needs_background": "light"
     },
     "output_type": "display_data"
    }
   ],
   "source": [
    "plt.figure(figsize=(15,9))\n",
    "plt.plot(freqs)"
   ]
  },
  {
   "cell_type": "code",
   "execution_count": 32,
   "metadata": {},
   "outputs": [
    {
     "name": "stdout",
     "output_type": "stream",
     "text": [
      "20293\n",
      "2127888\n",
      "['two', 'young', 'guys', 'with', 'shaggy', 'hair', 'look', 'at', 'their', 'hands', 'while', 'hanging', 'out', 'in', 'the', 'yard', '.', ',', 'white', 'males', 'are', 'outside', 'near', 'many', 'bushes', 'men', 'green', 'shirts', 'standing', 'a', 'man', 'blue', 'shirt', 'garden', 'friends', 'enjoy', 'time', 'spent', 'together', 'several']\n",
      "133\n"
     ]
    }
   ],
   "source": [
    "unique_words = len(list(words.keys()))\n",
    "print(unique_words)\n",
    "num_words = np.sum(np.asarray(list(words.values())))\n",
    "print(num_words)\n",
    "print(list(words.keys())[:40])\n",
    "print(list(words.values())[:40])\n"
   ]
  },
  {
   "cell_type": "code",
   "execution_count": 30,
   "metadata": {},
   "outputs": [
    {
     "name": "stdout",
     "output_type": "stream",
     "text": [
      "1996040\n"
     ]
    }
   ],
   "source": [
    "num_words = np.sum(np.asarray(list(words.values())[:2000]))\n",
    "print(num_words)"
   ]
  }
 ],
 "metadata": {
  "interpreter": {
   "hash": "61287a3aa3ac05406621635f96d54f72a47eb620e29aa244fff93d3e34fb20ae"
  },
  "kernelspec": {
   "display_name": "Python 3.8.8 64-bit ('ece763_class_project')",
   "language": "python",
   "name": "python3"
  },
  "language_info": {
   "codemirror_mode": {
    "name": "ipython",
    "version": 3
   },
   "file_extension": ".py",
   "mimetype": "text/x-python",
   "name": "python",
   "nbconvert_exporter": "python",
   "pygments_lexer": "ipython3",
   "version": "3.8.8"
  },
  "orig_nbformat": 4
 },
 "nbformat": 4,
 "nbformat_minor": 2
}
