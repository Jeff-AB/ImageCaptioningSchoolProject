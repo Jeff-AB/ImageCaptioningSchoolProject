{
 "cells": [
  {
   "cell_type": "code",
   "execution_count": 1,
   "metadata": {},
   "outputs": [],
   "source": [
    "import numpy as np\n",
    "import torch\n",
    "\n",
    "from models.model_utils import count_parameters\n",
    "from models.meshed_memory import EncoderLayer, MeshedMemoryEncoder, DecoderLayer, Decoder\n",
    "from data.augmentation import Flickr30KRegionalFeatures"
   ]
  },
  {
   "cell_type": "code",
   "execution_count": 2,
   "metadata": {},
   "outputs": [],
   "source": [
    "# Generate dummy data\n",
    "dummy = torch.Tensor(np.random.randn(50, 50, 1024)) # (bs, detections, data)\n",
    "dummy = dummy.float()"
   ]
  },
  {
   "cell_type": "code",
   "execution_count": 3,
   "metadata": {},
   "outputs": [
    {
     "name": "stdout",
     "output_type": "stream",
     "text": [
      "torch.Size([50, 2, 50, 256])\n",
      "torch.Size([50, 1, 1, 50])\n",
      "(1062656, 1062656)\n"
     ]
    }
   ],
   "source": [
    "encoder = MeshedMemoryEncoder(in_size=1024, \n",
    "                              num_layers=2, \n",
    "                              out_size=256,\n",
    "                              key_size=32, \n",
    "                              value_size=32, \n",
    "                              num_heads=8, \n",
    "                              dropout_rate=0.1,\n",
    "                              feedforward_size=256,\n",
    "                              num_mem_slots=8,\n",
    ")\n",
    "encoded, mask = encoder(dummy)\n",
    "print(encoded.size())\n",
    "print(mask.size())\n",
    "print(count_parameters(encoder))"
   ]
  },
  {
   "cell_type": "code",
   "execution_count": 5,
   "metadata": {},
   "outputs": [
    {
     "name": "stdout",
     "output_type": "stream",
     "text": [
      "torch.Size([1, 1, 20, 20])\n",
      "torch.Size([50, 20])\n",
      "Output size: torch.Size([50, 20, 2000])\n",
      "(2870224, 2875600)\n"
     ]
    }
   ],
   "source": [
    "decoder = Decoder(\n",
    "    num_layers=2,\n",
    "    num_encoder_layers=2,\n",
    "    max_sequence_len=20,\n",
    "    pad_token=0,\n",
    "    out_size=256, \n",
    "    key_size=32,\n",
    "    value_size=32, \n",
    "    feedforward_size=256,\n",
    "    encoded_size=256,\n",
    "    vocab_size=2000,\n",
    "    num_heads=8,\n",
    "    dropout_rate=0.1\n",
    ")\n",
    "y = torch.tensor(np.random.randint(0,99, size=(50, 20)))\n",
    "out = decoder(y, encoded, mask )\n",
    "print(f\"Output size: {out.size()}\")\n",
    "print(count_parameters(decoder))"
   ]
  }
 ],
 "metadata": {
  "interpreter": {
   "hash": "d772204313543065cb2628721a3ba1660b134a4cae54a03fd8fdfc9e371b0808"
  },
  "kernelspec": {
   "display_name": "Python 3.8.12 64-bit ('ece763_base')",
   "language": "python",
   "name": "python3"
  },
  "language_info": {
   "codemirror_mode": {
    "name": "ipython",
    "version": 3
   },
   "file_extension": ".py",
   "mimetype": "text/x-python",
   "name": "python",
   "nbconvert_exporter": "python",
   "pygments_lexer": "ipython3",
   "version": "3.8.12"
  },
  "orig_nbformat": 4
 },
 "nbformat": 4,
 "nbformat_minor": 2
}
